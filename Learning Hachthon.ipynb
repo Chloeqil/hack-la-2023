{
 "cells": [
  {
   "cell_type": "code",
   "execution_count": null,
   "metadata": {},
   "outputs": [],
   "source": [
    "import seaborn as sns\n",
    "import matplotlib.pyplot as plt"
   ]
  },
  {
   "cell_type": "code",
   "execution_count": null,
   "metadata": {},
   "outputs": [],
   "source": [
    "# Import necessary libraries\n",
    "import pandas as pd\n",
    "import matplotlib.pyplot as plt\n",
    "\n",
    "# Load the CSV file into a DataFrame\n",
    "df_events = pd.read_csv('./data/events.csv')\n",
    "\n",
    "# Display the first few rows of the DataFrame\n",
    "df_events.head()"
   ]
  },
  {
   "cell_type": "code",
   "execution_count": null,
   "metadata": {},
   "outputs": [],
   "source": [
    "df_assignment = pd.read_csv('./data/assignments.csv')"
   ]
  },
  {
   "cell_type": "code",
   "execution_count": null,
   "metadata": {},
   "outputs": [],
   "source": [
    "df_discussion_topics= pd.read_csv('./data/discussion_topics.csv')"
   ]
  },
  {
   "cell_type": "code",
   "execution_count": null,
   "metadata": {},
   "outputs": [],
   "source": [
    "df_discussion= pd.read_csv('./data/discussions.csv')\n",
    "df_enroll= pd.read_csv('./data/enrollments.csv')\n",
    "df_file= pd.read_csv('./data/files.csv')\n",
    "df_grade= pd.read_csv('./data/gradebook.csv')\n",
    "df_module= pd.read_csv('./data/module_items.csv')\n",
    "df_page= pd.read_csv('./data/pages.csv')"
   ]
  },
  {
   "cell_type": "code",
   "execution_count": null,
   "metadata": {},
   "outputs": [],
   "source": [
    "df_assignment"
   ]
  },
  {
   "cell_type": "code",
   "execution_count": null,
   "metadata": {},
   "outputs": [],
   "source": [
    "discussion_topic = df_dissussion.value_counts('discussion_topic_title')"
   ]
  },
  {
   "cell_type": "code",
   "execution_count": null,
   "metadata": {},
   "outputs": [],
   "source": [
    "df_discussion.groupby('discussion_topic_title')['post_message_length'].mean().sort_values(ascending=False)"
   ]
  },
  {
   "cell_type": "code",
   "execution_count": null,
   "metadata": {},
   "outputs": [],
   "source": [
    "discussion_topic"
   ]
  },
  {
   "cell_type": "code",
   "execution_count": null,
   "metadata": {},
   "outputs": [],
   "source": [
    "df_discussion.sort_values('timestamp')"
   ]
  },
  {
   "cell_type": "code",
   "execution_count": null,
   "metadata": {},
   "outputs": [],
   "source": [
    "df_discussion['timestamp'] = pd.to_datetime(df_discussion['timestamp'],format='mixed')"
   ]
  },
  {
   "cell_type": "code",
   "execution_count": null,
   "metadata": {},
   "outputs": [],
   "source": [
    "df_events.dtypes"
   ]
  },
  {
   "cell_type": "code",
   "execution_count": null,
   "metadata": {},
   "outputs": [],
   "source": [
    "df_enroll"
   ]
  },
  {
   "cell_type": "code",
   "execution_count": null,
   "metadata": {},
   "outputs": [],
   "source": [
    "df_enroll.sort_values('total_activity_time', ascending = False)"
   ]
  },
  {
   "cell_type": "code",
   "execution_count": null,
   "metadata": {},
   "outputs": [],
   "source": [
    "df_grade_enroll = df_grade.merge(df_enroll,left_on='Student',right_on='user_id',how='left')\n",
    "df_grade_enroll.dtypes"
   ]
  },
  {
   "cell_type": "code",
   "execution_count": null,
   "metadata": {},
   "outputs": [],
   "source": [
    "def grade(x):\n",
    "    if x >= 90:\n",
    "        Grade = 'A+'\n",
    "    elif x >= 85:\n",
    "        Grade = 'A'\n",
    "    elif x >= 80:\n",
    "        Grade = 'A-'\n",
    "    elif x >= 76:\n",
    "        Grade = 'B+'\n",
    "    elif x >= 72:\n",
    "        Grade = 'B'\n",
    "    elif x >= 68:\n",
    "        Grade = 'B-'\n",
    "    elif x >= 62:\n",
    "        Grade = 'C'\n",
    "    elif x >= 60:\n",
    "        Grade = 'D'    \n",
    "    else:\n",
    "        Grade = 'F'     \n",
    "    return(Grade)        \n",
    "        "
   ]
  },
  {
   "cell_type": "code",
   "execution_count": null,
   "metadata": {},
   "outputs": [],
   "source": [
    "df_grade_enroll['Grade']=df_grade_enroll['Current Score'].apply(grade)"
   ]
  },
  {
   "cell_type": "code",
   "execution_count": null,
   "metadata": {},
   "outputs": [],
   "source": [
    "df_grade_enroll"
   ]
  },
  {
   "cell_type": "code",
   "execution_count": null,
   "metadata": {},
   "outputs": [],
   "source": [
    "avg_time = df_grade_enroll.groupby('Grade')['total_activity_time'].mean()\n"
   ]
  },
  {
   "cell_type": "code",
   "execution_count": null,
   "metadata": {},
   "outputs": [],
   "source": [
    "data = {\n",
    "    'Grade': ['A+', 'A', 'A-', 'B+', 'B', 'B-', 'C', 'F'],\n",
    "    'total_activity_time': [426200.0, 667417.8, 538334.0, 645786.4, 492165.0, 175719.0, 1015778.0, 0.0]\n",
    "}\n",
    "\n",
    "series = pd.Series(data['total_activity_time'], index=data['Grade'])\n",
    "\n",
    "# Create a bar plot\n",
    "plt.figure(figsize=(8, 6))\n",
    "series.plot(kind='bar', color='skyblue')\n",
    "plt.xlabel('Grade')\n",
    "plt.ylabel('Total Activity Time')\n",
    "plt.title('Total Activity Time by Grade')\n",
    "plt.savefig('Grade vs Time')\n",
    "\n",
    "# Show the plot\n",
    "plt.show()"
   ]
  },
  {
   "cell_type": "code",
   "execution_count": null,
   "metadata": {},
   "outputs": [],
   "source": [
    "df_file"
   ]
  },
  {
   "cell_type": "code",
   "execution_count": null,
   "metadata": {},
   "outputs": [],
   "source": [
    "import numpy as np"
   ]
  },
  {
   "cell_type": "code",
   "execution_count": null,
   "metadata": {},
   "outputs": [],
   "source": [
    "df_grade = df_grade[2:]"
   ]
  },
  {
   "cell_type": "code",
   "execution_count": null,
   "metadata": {},
   "outputs": [],
   "source": [
    "df_grade.dtypes"
   ]
  },
  {
   "cell_type": "code",
   "execution_count": null,
   "metadata": {},
   "outputs": [],
   "source": [
    "df_grade['Assignment 1 Current Score'] = pd.to_numeric(df_grade['Assignment 1 Current Score'], errors='coerce')"
   ]
  },
  {
   "cell_type": "code",
   "execution_count": null,
   "metadata": {},
   "outputs": [],
   "source": [
    "df_grade['Assignment 2 Current Score'] = pd.to_numeric(df_grade['Assignment 2 Current Score'], errors='coerce')\n",
    "df_grade['Assignment 3 Current Score'] = pd.to_numeric(df_grade['Assignment 3 Current Score'], errors='coerce')\n",
    "df_grade['Current Score'] = pd.to_numeric(df_grade['Current Score'], errors='coerce')\n",
    "df_grade['Participation & engagement Current Score'] = pd.to_numeric(df_grade['Participation & engagement Current Score'], errors='coerce')"
   ]
  },
  {
   "cell_type": "code",
   "execution_count": null,
   "metadata": {},
   "outputs": [],
   "source": [
    "df_grade.describe()"
   ]
  },
  {
   "cell_type": "code",
   "execution_count": null,
   "metadata": {},
   "outputs": [],
   "source": [
    "df_grade.sort_values('Current Score',ascending = False)"
   ]
  },
  {
   "cell_type": "code",
   "execution_count": null,
   "metadata": {},
   "outputs": [],
   "source": [
    "df_grade.plot.scatter('Assignment 1 Current Score','Assignment 2 Current Score')\n",
    "df_grade.plot.scatter('Assignment 1 Current Score','Current Score')\n",
    "df_grade.plot.scatter('Assignment 2 Current Score','Current Score')\n",
    "df_grade.plot.scatter('Assignment 3 Current Score','Current Score')\n",
    "df_grade.plot.scatter('Participation & engagement Current Score','Current Score')\n",
    "df_grade_enroll.plot.scatter('total_activity_time','Current Score')\n",
    "\n",
    "plt.show()"
   ]
  },
  {
   "cell_type": "code",
   "execution_count": null,
   "metadata": {},
   "outputs": [],
   "source": [
    "df_grade.sort_values('Assignment 1 Current Score',ascending = False)"
   ]
  },
  {
   "cell_type": "code",
   "execution_count": null,
   "metadata": {},
   "outputs": [],
   "source": [
    "df_module"
   ]
  },
  {
   "cell_type": "code",
   "execution_count": null,
   "metadata": {},
   "outputs": [],
   "source": [
    "df_page"
   ]
  },
  {
   "cell_type": "code",
   "execution_count": null,
   "metadata": {},
   "outputs": [],
   "source": [
    "# Summary statistics of the data\n",
    "summary_statistics = df_grade.describe()\n",
    "summary_statistics"
   ]
  },
  {
   "cell_type": "code",
   "execution_count": null,
   "metadata": {},
   "outputs": [],
   "source": [
    "# Visualize the data\n",
    "df_events['event_time'] = pd.to_datetime(df_events['event_time'],format='mixed')"
   ]
  },
  {
   "cell_type": "code",
   "execution_count": null,
   "metadata": {},
   "outputs": [],
   "source": [
    "df_events['event_time'][1]"
   ]
  },
  {
   "cell_type": "code",
   "execution_count": null,
   "metadata": {},
   "outputs": [],
   "source": [
    "# Group the events by day and count the number of events per day\n",
    "daily_events = df_events['event_time'].dt.date.value_counts().sort_index()\n",
    "\n",
    "# Create a line graph\n",
    "plt.figure(figsize=(10, 6))\n",
    "plt.plot(daily_events.index, daily_events.values, marker='o', linestyle='-')\n",
    "plt.title('Events per Day')\n",
    "plt.xlabel('Date')\n",
    "plt.ylabel('Number of Events')\n",
    "plt.xticks(rotation=45)\n",
    "plt.grid(True)\n",
    "\n",
    "# Display the graph\n",
    "plt.tight_layout()\n",
    "plt.show()"
   ]
  },
  {
   "cell_type": "code",
   "execution_count": null,
   "metadata": {},
   "outputs": [],
   "source": [
    "import datetime"
   ]
  },
  {
   "cell_type": "code",
   "execution_count": null,
   "metadata": {},
   "outputs": [],
   "source": [
    "# Group the events by day and count the number of events per day\n",
    "daily_discussion = df_discussion['timestamp'].dt.date.value_counts().sort_index()\n",
    "\n",
    "# Create a line graph\n",
    "plt.figure(figsize=(10, 6))\n",
    "plt.plot(daily_discussion.index, daily_discussion.values, marker='o', linestyle='-')\n",
    "plt.title('Discussions per Day')\n",
    "plt.xlabel('Date')\n",
    "plt.ylabel('Number of Discussion')\n",
    "plt.xticks(rotation=45)\n",
    "plt.grid(True)\n",
    "\n",
    "vertical_line_date = datetime.date(2033, 2, 9)\n",
    "plt.axvline(x=vertical_line_date, color='red', linestyle='--', label='Vertical Line')\n",
    "\n",
    "vertical_line_date = datetime.date(2033, 3, 9)\n",
    "plt.axvline(x=vertical_line_date, color='red', linestyle='--', label='Vertical Line')\n",
    "\n",
    "vertical_line_date = datetime.date(2033, 4, 9)\n",
    "plt.axvline(x=vertical_line_date, color='red', linestyle='--', label='Vertical Line')\n",
    "\n",
    "\n",
    "# Display the graph\n",
    "plt.tight_layout()\n",
    "\n",
    "plt.savefig('discussions per day')\n",
    "plt.show()"
   ]
  },
  {
   "cell_type": "code",
   "execution_count": null,
   "metadata": {},
   "outputs": [],
   "source": [
    "df_grade[['Assignment 1 Current Score','Assignment 2 Current Score','Assignment 3 Current Score','Participation & engagement Current Score','Current Score']].corr()"
   ]
  },
  {
   "cell_type": "code",
   "execution_count": null,
   "id": "c2de01a9",
   "metadata": {},
   "outputs": [],
   "source": [
    "# Basic descriptive statistics\n",
    "print(df_discussion[['discussion_topic_message_length', 'post_message_length']].describe())"
   ]
  },
  {
   "cell_type": "code",
   "execution_count": null,
   "metadata": {},
   "outputs": [],
   "source": [
    "df_discussion"
   ]
  },
  {
   "cell_type": "code",
   "execution_count": null,
   "id": "75a0c068",
   "metadata": {
    "scrolled": true
   },
   "outputs": [],
   "source": [
    "# Count of posts by actor\n",
    "posts_by_actor = df_discussion['actor_id'].value_counts()\n",
    "print(posts_by_actor.head())"
   ]
  },
  {
   "cell_type": "code",
   "execution_count": null,
   "id": "f1506503",
   "metadata": {},
   "outputs": [],
   "source": [
    "# Sum of likes by actor\n",
    "likes_by_actor = df_discussion.groupby('actor_id')['count_of_likes'].sum()\n",
    "print(likes_by_actor.sort_values(ascending=False).head())"
   ]
  },
  {
   "cell_type": "code",
   "execution_count": null,
   "id": "d02d27ec",
   "metadata": {},
   "outputs": [],
   "source": [
    "# Convert 'timestamp' to datetime\n",
    "df_discussion['timestamp'] = pd.to_datetime(df_discussion['timestamp'])\n",
    "\n",
    "# Set 'timestamp' as index\n",
    "df_discussion.set_index('timestamp', inplace=True)\n",
    "\n",
    "# Resample to get monthly counts of posts\n",
    "monthly_posts = df_discussion['post_id'].resample('M').count()\n",
    "# monthly post counts\n",
    "print(monthly_posts)"
   ]
  },
  {
   "cell_type": "code",
   "execution_count": null,
   "id": "d2e4a87c",
   "metadata": {},
   "outputs": [],
   "source": [
    "# Group by 'discussion_topic_id' and 'discussion_topic_title' and count the number of posts for each group\n",
    "topic_counts = df_discussion.groupby(['discussion_topic_id', 'discussion_topic_title']).size()\n",
    "\n",
    "# Sort the counts in descending order to find the most discussed topics\n",
    "popular_topics_with_titles = topic_counts.sort_values(ascending=False)\n",
    "\n",
    "# Display the top 5 most discussed topics with titles\n",
    "print(popular_topics_with_titles.head())"
   ]
  },
  {
   "cell_type": "code",
   "execution_count": null,
   "id": "311999b0",
   "metadata": {},
   "outputs": [],
   "source": [
    "# Average post message length by membership role\n",
    "avg_length_by_role = df_discussion.groupby('membership_role')['post_message_length'].mean()\n",
    "print(avg_length_by_role)"
   ]
  },
  {
   "cell_type": "code",
   "execution_count": null,
   "id": "274c226a",
   "metadata": {},
   "outputs": [],
   "source": [
    "import seaborn as sns\n",
    "import matplotlib.pyplot as plt"
   ]
  },
  {
   "cell_type": "code",
   "execution_count": null,
   "id": "d9d46538",
   "metadata": {},
   "outputs": [],
   "source": [
    "# new column for the hour of the day and the day of the week\n",
    "df_discussion['hour'] = df_discussion.index.hour\n",
    "df_discussion['day_of_week'] = df_discussion.index.day_name()\n",
    "\n",
    "# for the heatmap; count the number of posts in each hour for each day\n",
    "activity_matrix = df_discussion.groupby(['day_of_week', 'hour']).size().unstack(fill_value=0)\n",
    "\n",
    "# Order the days of the week starting from Monday\n",
    "ordered_days = ['Monday', 'Tuesday', 'Wednesday', 'Thursday', 'Friday', 'Saturday', 'Sunday']\n",
    "activity_matrix = activity_matrix.reindex(ordered_days)\n",
    "\n",
    "# Plot the heatmap\n",
    "plt.figure(figsize=(12, 7))  # You can adjust the size as needed\n",
    "sns.heatmap(activity_matrix, cmap='viridis', linewidths=.5, annot=True)\n",
    "\n",
    "# Add labels and a title\n",
    "plt.title('Activity Heatmap (Posts per Day and Hour)')\n",
    "plt.xlabel('Hour of the Day')\n",
    "plt.ylabel('Day of the Week')\n",
    "\n",
    "plt.savefig('heatmap')\n",
    "\n",
    "# Show the plot\n",
    "plt.show()"
   ]
  },
  {
   "cell_type": "code",
   "execution_count": null,
   "id": "4128bd0d",
   "metadata": {},
   "outputs": [],
   "source": [
    "import pandas as pd\n",
    "from nltk.corpus import stopwords\n",
    "from nltk.tokenize import word_tokenize\n",
    "from wordcloud import WordCloud\n",
    "import matplotlib.pyplot as plt\n"
   ]
  },
  {
   "cell_type": "code",
   "execution_count": null,
   "id": "e0f84a96",
   "metadata": {},
   "outputs": [],
   "source": [
    "\n",
    "import nltk\n",
    "from nltk import FreqDist\n",
    "\n",
    "nltk.download('stopwords')\n",
    "nltk.download('punkt')"
   ]
  },
  {
   "cell_type": "code",
   "execution_count": null,
   "id": "b3dde491",
   "metadata": {},
   "outputs": [],
   "source": [
    "# Assuming 'discussion_subentry_count' is a column in your dataframe\n",
    "# We sort the dataframe based on 'discussion_subentry_count' in descending order\n",
    "df_discussion_topics_sorted = df_discussion_topics.sort_values(by='discussion_subentry_count', ascending=False)"
   ]
  },
  {
   "cell_type": "code",
   "execution_count": null,
   "id": "be2755b8",
   "metadata": {},
   "outputs": [],
   "source": [
    "# Select the top N discussions\n",
    "top_discussions = df_discussion_topics_sorted.head(10)"
   ]
  },
  {
   "cell_type": "code",
   "execution_count": null,
   "metadata": {},
   "outputs": [],
   "source": [
    "stop_words= stopwords.words('english')"
   ]
  },
  {
   "cell_type": "code",
   "execution_count": null,
   "id": "7477ddf0",
   "metadata": {},
   "outputs": [],
   "source": [
    "# Get the titles of the top discussions\n",
    "top_titles = ' '.join(top_discussions['title'].dropna().values)\n",
    "\n",
    "# Tokenize and clean the titles as before\n",
    "top_tokens = word_tokenize(top_titles)\n",
    "top_words = [word.lower() for word in top_tokens if word.isalpha() and word.lower() not in stop_words]\n",
    "\n",
    "# Frequency distribution for top words\n",
    "top_fdist = FreqDist(top_words)\n",
    "for word, frequency in top_fdist.most_common(10):\n",
    "    print(f'{word}: {frequency}')"
   ]
  },
  {
   "cell_type": "code",
   "execution_count": null,
   "id": "4c662d79",
   "metadata": {},
   "outputs": [],
   "source": [
    "# Generate a word cloud image for top discussions\n",
    "top_wordcloud = WordCloud(width=800, height=400, background_color='white').generate(' '.join(top_words))\n",
    "\n",
    "# Display the word cloud\n",
    "plt.figure(figsize=(15, 8))\n",
    "plt.imshow(top_wordcloud, interpolation='bilinear')\n",
    "plt.axis('off')\n",
    "plt.savefig('wordcloud')\n",
    "plt.show()\n"
   ]
  },
  {
   "cell_type": "code",
   "execution_count": null,
   "id": "af8b68cb",
   "metadata": {},
   "outputs": [],
   "source": [
    "# Load the data\n",
    "df2= pd.read_csv('./data/gradebook.csv')\n",
    "df2.head()"
   ]
  },
  {
   "cell_type": "code",
   "execution_count": null,
   "id": "2da5343e",
   "metadata": {},
   "outputs": [],
   "source": [
    "# Load the data\n",
    "df3 = pd.read_csv('./data/enrollments.csv')\n",
    "df3.head()"
   ]
  },
  {
   "cell_type": "code",
   "execution_count": null,
   "id": "10fe44ac",
   "metadata": {},
   "outputs": [],
   "source": [
    "# Load the data\n",
    "df4 = pd.read_csv('module_items.csv')\n",
    "df4.head()"
   ]
  },
  {
   "cell_type": "code",
   "execution_count": null,
   "id": "071918ff",
   "metadata": {},
   "outputs": [],
   "source": [
    "# Load the data\n",
    "df5 = pd.read_csv('files.csv')\n",
    "df5.head()"
   ]
  },
  {
   "cell_type": "code",
   "execution_count": null,
   "id": "1bcf43d4",
   "metadata": {},
   "outputs": [],
   "source": [
    "# Load the data\n",
    "df5 = pd.read_csv('assignments.csv')\n",
    "df5.head()"
   ]
  },
  {
   "cell_type": "code",
   "execution_count": null,
   "id": "8d8f98b5",
   "metadata": {},
   "outputs": [],
   "source": [
    "# Load the data\n",
    "df6 = pd.read_csv('gradebook.csv')\n",
    "df6.head()"
   ]
  },
  {
   "cell_type": "code",
   "execution_count": null,
   "id": "99025b84",
   "metadata": {},
   "outputs": [],
   "source": []
  },
  {
   "cell_type": "code",
   "execution_count": null,
   "metadata": {},
   "outputs": [],
   "source": []
  }
 ],
 "metadata": {
  "kernelspec": {
   "display_name": "Python 3 (ipykernel)",
   "language": "python",
   "name": "python3"
  },
  "language_info": {
   "codemirror_mode": {
    "name": "ipython",
    "version": 3
   },
   "file_extension": ".py",
   "mimetype": "text/x-python",
   "name": "python",
   "nbconvert_exporter": "python",
   "pygments_lexer": "ipython3",
   "version": "3.11.5"
  }
 },
 "nbformat": 4,
 "nbformat_minor": 2
}
